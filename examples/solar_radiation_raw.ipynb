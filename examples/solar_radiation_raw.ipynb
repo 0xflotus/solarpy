{
 "cells": [
  {
   "cell_type": "code",
   "execution_count": 1,
   "metadata": {
    "scrolled": true
   },
   "outputs": [],
   "source": [
    "import numpy as np\n",
    "import matplotlib.pyplot as plt\n",
    "from mpl_toolkits.mplot3d import Axes3D\n",
    "import solarpy as sp\n",
    "\n",
    "from pylab import rcParams\n",
    "rcParams['figure.figsize'] = 15, 5"
   ]
  },
  {
   "cell_type": "markdown",
   "metadata": {},
   "source": [
    "# Gon - extraterrestrial radiation on normal plane (_n_th day)\n",
    "\n",
    "<img src=https://pvpmc.sandia.gov/wp-content/uploads/2012/04/Ea_DOY.png width=\"350\" align=\"center\">"
   ]
  },
  {
   "cell_type": "code",
   "execution_count": null,
   "metadata": {},
   "outputs": [],
   "source": [
    "n = range(1, 366)\n",
    "Gon_ = []\n",
    "\n",
    "for i in n:\n",
    "    Gon_.append(sr.Gon(i))\n",
    "\n",
    "plt.plot(n, Gon_, label='Gon')\n",
    "plt.xlim(0, 366), plt.ylim(1320, 1420)\n",
    "plt.xlabel('day of the year'), plt.ylabel('W/m2')\n",
    "plt.title('Extraterrestrial radiation on normal plane')\n",
    "plt.legend()\n",
    "plt.grid(True)\n",
    "plt.show()"
   ]
  },
  {
   "cell_type": "markdown",
   "metadata": {},
   "source": [
    "# E - equation of time (_n_th day)\n",
    "\n",
    "<img src=https://aa.usno.navy.mil/graphics/EqT_graph_2014.jpg width=\"350\" align=\"center\">"
   ]
  },
  {
   "cell_type": "code",
   "execution_count": null,
   "metadata": {},
   "outputs": [],
   "source": [
    "n = range(1, 366)\n",
    "E_ = []\n",
    "\n",
    "for i in n:\n",
    "    E_.append(sr.Eq_time(i))\n",
    "\n",
    "plt.plot(n, E_, label='E')\n",
    "plt.xlim(0, 366), plt.ylim(-15, 17)\n",
    "plt.xlabel('day of the year'), plt.ylabel('min')\n",
    "plt.title('Equation of time')\n",
    "plt.legend()\n",
    "plt.grid(True)\n",
    "plt.show()"
   ]
  },
  {
   "cell_type": "markdown",
   "metadata": {},
   "source": [
    "# Declination (_n_th day)\n",
    "\n",
    "<img src=https://www.pveducation.org/sites/default/files/PVCDROM/Properties-of-Sunlight/Images/solar_declination_angle_graph.png width=\"350\" align=\"center\">\n",
    "\n"
   ]
  },
  {
   "cell_type": "code",
   "execution_count": null,
   "metadata": {},
   "outputs": [],
   "source": [
    "n = range(1, 366)\n",
    "delta_ = []\n",
    "\n",
    "for i in n:\n",
    "    delta_.append(np.rad2deg(sr.declination(i)))\n",
    "\n",
    "plt.plot(n, delta_, label='delta')\n",
    "plt.xlim(0, 366), plt.ylim(-25, 25)\n",
    "plt.xlabel('day of the year'), plt.ylabel('degrees')\n",
    "plt.title('Sun declination at solar noon')\n",
    "plt.legend()\n",
    "plt.grid(True)\n",
    "plt.show()"
   ]
  },
  {
   "cell_type": "markdown",
   "metadata": {},
   "source": [
    "# Solar time (_n_th day, standard time and longitude)\n",
    "\n",
    "Example **1.5.1**"
   ]
  },
  {
   "cell_type": "code",
   "execution_count": null,
   "metadata": {},
   "outputs": [],
   "source": [
    "n = 34\n",
    "t_std_h = 10  # standard time (hour)\n",
    "t_std_min = 30  # standard time (minute)\n",
    "long = 89.4\n",
    "\n",
    "sr.solar_time(n, t_std_h, t_std_min, long)"
   ]
  },
  {
   "cell_type": "markdown",
   "metadata": {},
   "source": [
    "# Hour angle (solar time)\n",
    "Example **1.6.1**"
   ]
  },
  {
   "cell_type": "code",
   "execution_count": null,
   "metadata": {},
   "outputs": [],
   "source": [
    "np.rad2deg(sr.hour_angle(10, 30))"
   ]
  },
  {
   "cell_type": "markdown",
   "metadata": {},
   "source": [
    "## Angle of incidence (_n_th day, latitude, beta, surface azimuth, solar time)\n",
    "Example **1.6.1**"
   ]
  },
  {
   "cell_type": "code",
   "execution_count": null,
   "metadata": {},
   "outputs": [],
   "source": [
    "np.rad2deg(sr.theta(44, 43, 45, 15, 10, 30))"
   ]
  },
  {
   "cell_type": "markdown",
   "metadata": {},
   "source": [
    "## Zenith angle (nth day, latitude, solar time)\n",
    "Example **1.6.2**"
   ]
  },
  {
   "cell_type": "code",
   "execution_count": null,
   "metadata": {},
   "outputs": [],
   "source": [
    "np.rad2deg(sr.theta_z(sr.day_of_the_year(2, 13), 43, 9, 30))"
   ]
  },
  {
   "cell_type": "markdown",
   "metadata": {},
   "source": [
    "## Solar azimuth angle (nth day, latitude, solar time)\n",
    "\n",
    "Example **1.6.2**"
   ]
  },
  {
   "cell_type": "code",
   "execution_count": null,
   "metadata": {},
   "outputs": [],
   "source": [
    "# 13 Feb at 9:30 am at lat=43º\n",
    "d = sr.day_of_the_year(2, 13)\n",
    "hour = 9\n",
    "minute = 30\n",
    "lat = 43\n",
    "\n",
    "print(\"declination = %fº\" % np.rad2deg(sr.declination(d)))\n",
    "print(\"w = %fº\" % np.rad2deg(sr.hour_angle(hour, minute)))\n",
    "print(\"zenith angle = %fº\" % np.rad2deg(sr.theta_z(d, lat, hour, minute)))\n",
    "print(\"solar azimuth  = %fº\" % np.rad2deg(sr.solar_azimuth(d, lat, hour, minute)))"
   ]
  },
  {
   "cell_type": "code",
   "execution_count": null,
   "metadata": {},
   "outputs": [],
   "source": [
    "# 1 July at 6:30 pm at lat=43º\n",
    "d = sr.day_of_the_year(7, 1)\n",
    "hour = 18\n",
    "minute = 30\n",
    "lat = 43\n",
    "\n",
    "print(\"declination = %fº\" % np.rad2deg(sr.declination(d)))\n",
    "print(\"w = %fº\" % np.rad2deg(sr.hour_angle(hour, minute)))\n",
    "print(\"zenith angle = %fº\" % np.rad2deg(sr.theta_z(d, lat, hour, minute)))\n",
    "print(\"solar azimuth  = %fº\" % np.rad2deg(sr.solar_azimuth(d, lat, hour, minute)))"
   ]
  },
  {
   "cell_type": "markdown",
   "metadata": {},
   "source": [
    "## Sunset hour angle (nth day, latitude)"
   ]
  },
  {
   "cell_type": "code",
   "execution_count": null,
   "metadata": {},
   "outputs": [],
   "source": [
    "n = sr.day_of_the_year(3, 16)\n",
    "np.rad2deg(sr.sunset_hour_angle(n, 43))"
   ]
  },
  {
   "cell_type": "code",
   "execution_count": null,
   "metadata": {},
   "outputs": [],
   "source": [
    "sr.sunset_time(n, 43)"
   ]
  },
  {
   "cell_type": "markdown",
   "metadata": {},
   "source": [
    "## Sunrise hour angle (nth day, latitude)"
   ]
  },
  {
   "cell_type": "code",
   "execution_count": null,
   "metadata": {},
   "outputs": [],
   "source": [
    "import numpy as np\n",
    "import matplotlib.pyplot as plt\n",
    "from mpl_toolkits.mplot3d import Axes3D\n",
    "\n",
    "from datetime import datetime, timedelta\n",
    "from scipy.optimize import fmin\n",
    "import solar_radiation as sr\n",
    "\n",
    "from pylab import rcParams\n",
    "rcParams['figure.figsize'] = 15, 5"
   ]
  },
  {
   "cell_type": "code",
   "execution_count": null,
   "metadata": {},
   "outputs": [],
   "source": [
    "np.rad2deg(sr.sunrise_hour_angle(sr.day_of_the_year(3, 16), 43))"
   ]
  },
  {
   "cell_type": "code",
   "execution_count": null,
   "metadata": {},
   "outputs": [],
   "source": [
    "np.rad2deg(sr.sunrise_hour_anglengle(1, 75))"
   ]
  },
  {
   "cell_type": "code",
   "execution_count": null,
   "metadata": {},
   "outputs": [],
   "source": [
    "np.rad2deg(sr.sunset_hour_angle(1, 66.95))"
   ]
  },
  {
   "cell_type": "code",
   "execution_count": null,
   "metadata": {},
   "outputs": [],
   "source": [
    "sr.sunset_time(1, 66).hour"
   ]
  },
  {
   "cell_type": "markdown",
   "metadata": {},
   "source": [
    "## nº daylight hours (nth day, latitude)"
   ]
  },
  {
   "cell_type": "code",
   "execution_count": null,
   "metadata": {},
   "outputs": [],
   "source": [
    "sr.daylight_hours(171, -90)"
   ]
  },
  {
   "cell_type": "markdown",
   "metadata": {},
   "source": [
    "#### visualization"
   ]
  },
  {
   "cell_type": "code",
   "execution_count": null,
   "metadata": {},
   "outputs": [],
   "source": [
    "n_ = np.linspace(1, 365, 365)\n",
    "lat_ = np.linspace(-90, 90, 360)\n",
    "\n",
    "N, LAT= np.meshgrid(n_, lat_,)\n",
    "light_hours = sr.daylight_hours(N, LAT)"
   ]
  },
  {
   "cell_type": "code",
   "execution_count": null,
   "metadata": {},
   "outputs": [],
   "source": [
    "plt.contourf(n_, lat_, light_hours, [0, 1, 6, 9, 10, 11, 12,\n",
    "                                     13, 14, 15, 17, 23, 24])\n",
    "plt.colorbar(label='nº of hours')\n",
    "plt.xlabel('Month', fontsize=15)\n",
    "plt.ylabel('latitude', fontsize=15)\n",
    "plt.title('Daylight hours', fontsize=18)\n",
    "plt.xticks(np.linspace(0, 366, 13)[:-1], ('Ene', 'Feb', 'Mar', 'Abr',\n",
    "                                          'May', 'Jun', 'Jul', 'Ago',\n",
    "                                          'Sep', 'Oct', 'Nov', 'Dec'))\n",
    "plt.show()"
   ]
  },
  {
   "cell_type": "code",
   "execution_count": null,
   "metadata": {},
   "outputs": [],
   "source": [
    "fig, ax = plt.subplots()\n",
    "CS = ax.contour(n_, lat_, light_hours, [1, 6, 9, 10, 11, 12,\n",
    "                                        13, 14, 15, 18, 23])\n",
    "ax.clabel(CS, inline=1, fontsize=10)\n",
    "ax.set_xlabel('day of the year', fontsize=15)\n",
    "ax.set_ylabel('latitude', fontsize=15)\n",
    "ax.set_title('Daylight hours', fontsize=18);\n",
    "plt.grid(True)"
   ]
  },
  {
   "cell_type": "markdown",
   "metadata": {},
   "source": [
    "Example **1.6.3**"
   ]
  },
  {
   "cell_type": "code",
   "execution_count": null,
   "metadata": {},
   "outputs": [],
   "source": [
    "latitude = 43\n",
    "surface_azimuth = 25\n",
    "hour = 16\n",
    "minute = 0\n",
    "day = 16\n",
    "month = 3\n",
    "\n",
    "n = sr.day_of_the_year(month, day)\n",
    "\n",
    "print(\"declination = %3.2fº\" % np.rad2deg(sr.declination(n)))\n",
    "\n",
    "print(\"sunrise hour angle = %3.2fº\" % np.rad2deg(sr.sunrise_hour_angle(n, latitude)))\n",
    "print(\"sunrise time =\", sr.sunrise_time(n, latitude))\n",
    "\n",
    "print(\"sunset hour angle = %3.2fº\" % np.rad2deg(sr.sunset_hour_angle(n, latitude)))\n",
    "print(\"sunset time =\", sr.sunset_time(n, latitude))\n",
    "\n",
    "print(\"hour angle = %3.2fº\" % np.rad2deg(sr.hour_angle(hour, minute)))\n",
    "print(\"solar altitude = %3.2fº\" % np.rad2deg(sr.solar_altitude(n, latitude, hour, minute)))\n",
    "print(\"zenith angle = %3.2fº\" % np.rad2deg(sr.theta_z(n, latitude, hour, minute)))\n",
    "print(\"solar azimuth = %3.2fº\" % np.rad2deg(sr.solar_azimuth(n, latitude, hour, minute)))"
   ]
  },
  {
   "cell_type": "markdown",
   "metadata": {},
   "source": [
    "## Sunbeam vector"
   ]
  },
  {
   "cell_type": "code",
   "execution_count": null,
   "metadata": {},
   "outputs": [],
   "source": [
    "n = 171\n",
    "latitude = 0\n",
    "hour = 12\n",
    "minute = 0\n",
    "\n",
    "solar_az = sr.solar_azimuth(n, latitude, hour, minute)\n",
    "solar_alt = sr.solar_altitude(n, latitude, hour, minute)\n",
    "\n",
    "n_sun = sr.solar_vector_NED(n, latitude, hour, minute)\n",
    "\n",
    "print(\"solarAz\", solar_az)\n",
    "print(solar_alt)\n",
    "print(\"n sun\", n_sun)\n",
    "print(sr.hour_angle(hour, minute))\n",
    "print(sr.declination(n))\n",
    "print(np.rad2deg(sr.theta_z(n, latitude, hour, minute)))"
   ]
  },
  {
   "cell_type": "code",
   "execution_count": null,
   "metadata": {
    "scrolled": true
   },
   "outputs": [],
   "source": [
    "%matplotlib qt\n",
    "fig = plt.figure()\n",
    "ax = fig.add_subplot(111, projection='3d')\n",
    "\n",
    "# Plotear la esfera\n",
    "R = 6378\n",
    "u, v = np.linspace(0, 2 * np.pi, 100), np.linspace(0, np.pi, 100)\n",
    "x, y, z = R * np.outer(np.cos(u), np.sin(v)), \\\n",
    "          R * np.outer(np.sin(u), np.sin(v)), \\\n",
    "          R * np.outer(np.ones(np.size(u)), np.cos(v))\n",
    "\n",
    "ax.plot_surface(x, y, z, color='g', rcount=25, ccount=25)\n",
    "\n",
    "# Plotear los vectores solares para solsticio de verano \n",
    "# (n = 171) y solsticio de invierno (n = 355)\n",
    "latitude = 55\n",
    "longitude = 0\n",
    "\n",
    "for n, c in zip((171, 355), ('r', 'b')):\n",
    "    for hour in range(24):\n",
    "        for minute in (0, 10, 20, 30, 40, 50):\n",
    "            n_sun_NED = sr.solar_vector_NED(n, latitude, hour, minute)\n",
    "            n_sun_ecef = sr.ned2ecef(n_sun_NED, latitude, longitude)\n",
    "\n",
    "            X, Y, Z = sr.lla2ecef(latitude, longitude, 0) / 1e3\n",
    "            U, V, W = 5e3 * n_sun_ecef\n",
    "            ax.quiver(X, Y, Z, U, V, W, linewidths=1, color=c)\n",
    "\n",
    "ax.set_xlim(-6000, 6000)\n",
    "ax.set_ylim(-6000, 6000)\n",
    "ax.set_zlim(-6000, 6000)\n",
    "plt.show()"
   ]
  },
  {
   "cell_type": "code",
   "execution_count": null,
   "metadata": {
    "scrolled": true
   },
   "outputs": [],
   "source": [
    "%matplotlib qt\n",
    "\n",
    "n = 171\n",
    "long = 0\n",
    "fig = plt.figure()\n",
    "ax = fig.add_subplot(111, projection='3d')\n",
    "\n",
    "# Plotear la esfera\n",
    "R = 6378\n",
    "u, v = np.linspace(0, 2 * np.pi, 100), np.linspace(0, np.pi, 100)\n",
    "x, y, z = R * np.outer(np.cos(u), np.sin(v)), \\\n",
    "          R * np.outer(np.sin(u), np.sin(v)), \\\n",
    "          R * np.outer(np.ones(np.size(u)), np.cos(v))\n",
    "ax.plot_surface(x, y, z, color='blue', rcount=25, ccount=25)\n",
    "\n",
    "# Plotear los vectores solares\n",
    "for lat in range(-90, 91):   \n",
    "    n_sun_NED = sr.solar_vector_NED(n, lat, 6, 0)\n",
    "    n_sun_ECEF = sr.ned2ecef(n_sun_NED, lat, long)\n",
    "\n",
    "    X, Y, Z = sr.lla2ecef(lat, long, 0) / 1e3  # coordinates in km\n",
    "    U, V, W = 1e4 * n_sun_ECEF\n",
    "    ax.quiver(X, Y, Z, U, V, W, color='r', linewidths=1)\n",
    "\n",
    "plt.show()"
   ]
  },
  {
   "cell_type": "markdown",
   "metadata": {},
   "source": [
    "Solsticio de verano:"
   ]
  },
  {
   "cell_type": "code",
   "execution_count": null,
   "metadata": {},
   "outputs": [],
   "source": [
    "n = sr.day_of_the_year(6, 21)  # 21 de Junio\n",
    "lat = 23 + 26/60 + 14/3600 # Oblicuidad de la eclíptica\n",
    "\n",
    "sr.solar_vector_NED(n, lat, 12, 0)"
   ]
  },
  {
   "cell_type": "markdown",
   "metadata": {},
   "source": [
    "## Air mass\n",
    "\n",
    "Kasten and Young 1989"
   ]
  },
  {
   "cell_type": "code",
   "execution_count": null,
   "metadata": {},
   "outputs": [],
   "source": [
    "def air_mass_Young1994(theta_z):\n",
    "    \"\"\"\n",
    "    Returns the ratio obetween air mass crossed by a sun beam to the mass\n",
    "    it would pass if the sun were in the zenith.\n",
    "\n",
    "    Parameters\n",
    "    ----------\n",
    "    theta_z : float\n",
    "        zenith angle of incidence in radians\n",
    "\n",
    "    Returns\n",
    "    -------\n",
    "    m : float\n",
    "        ratio\n",
    "\n",
    "    Notes\n",
    "    -----\n",
    "    Kasten, F.H. (1994) \"Air mass and refraction\"\n",
    "    \"\"\"\n",
    "    th_z = np.deg2rad(theta_z)\n",
    "    co_thz = np.cos(th_z)\n",
    "    a = 1.002432 * co_thz**2 + 0.148386 * co_thz + 0.0096467\n",
    "    b = co_thz**3 + 0.149864 * co_thz**2 + 0.0102963 * co_thz + 0.000303978\n",
    "    m = a / b\n",
    "\n",
    "    return m"
   ]
  },
  {
   "cell_type": "code",
   "execution_count": null,
   "metadata": {},
   "outputs": [],
   "source": [
    "for th in range(0, 99):\n",
    "    print(th,1/np.cos(np.deg2rad(th)),air_mass_KastenYoung1989(th, 0), air_mass_Young1994(th))"
   ]
  },
  {
   "cell_type": "code",
   "execution_count": null,
   "metadata": {},
   "outputs": [],
   "source": [
    "from solarpy.radiation import air_mass_KastenYoung1989"
   ]
  },
  {
   "cell_type": "code",
   "execution_count": null,
   "metadata": {},
   "outputs": [],
   "source": [
    "m1_ = []\n",
    "m2_ = []\n",
    "theta_ = np.arange(0, 90, 1)\n",
    "\n",
    "for theta_z in theta_:\n",
    "    h = 0\n",
    "    m1 = sp.radiation.air_mass_KastenYoung1989(theta_z, h)\n",
    "    h = 2000\n",
    "    m2 = sp.radiation.air_mass_KastenYoung1989(theta_z, h)\n",
    "    \n",
    "    m1_.append(m1)\n",
    "    m2_.append(m2)\n",
    "\n",
    "plt.plot(theta_, m1_, c='b')\n",
    "plt.plot(theta_, m2_, c='r')"
   ]
  },
  {
   "cell_type": "markdown",
   "metadata": {},
   "source": [
    "## Beam irradiance"
   ]
  },
  {
   "cell_type": "code",
   "execution_count": null,
   "metadata": {},
   "outputs": [],
   "source": [
    "h = 0\n",
    "n = 171\n",
    "lat = -63\n",
    "hour, minute = 10, 0\n",
    "\n",
    "sr.beam_irradiance(h, n, lat, hour, minute)"
   ]
  },
  {
   "cell_type": "code",
   "execution_count": null,
   "metadata": {},
   "outputs": [],
   "source": [
    "n = 171\n",
    "lat = 40\n",
    "minute = 0\n",
    "t = np.arange(0, 24, 0.25)\n",
    "\n",
    "for h in (0, 5e3, 15e3, 20e3):\n",
    "    G = []\n",
    "    for hour in range(0, 24):\n",
    "        for minute in (0, 15, 30, 45):\n",
    "            G.append(sr.beam_irradiance(h, n, lat, hour, minute))\n",
    "    plt.plot(t, G, label='h = ' + str(int(h)))\n",
    "    \n",
    "plt.legend()\n",
    "plt.show()"
   ]
  },
  {
   "cell_type": "markdown",
   "metadata": {},
   "source": [
    "# datetime"
   ]
  },
  {
   "cell_type": "code",
   "execution_count": 4,
   "metadata": {},
   "outputs": [],
   "source": [
    "import numpy as np\n",
    "import matplotlib.pyplot as plt\n",
    "from mpl_toolkits.mplot3d import Axes3D\n",
    "from datetime import datetime, timedelta\n",
    "import solarpy.radiation as spr\n",
    "\n",
    "from pylab import rcParams\n",
    "rcParams['figure.figsize'] = 15, 5"
   ]
  },
  {
   "cell_type": "code",
   "execution_count": 13,
   "metadata": {},
   "outputs": [
    {
     "data": {
      "text/plain": [
       "array([171, 364, 365])"
      ]
     },
     "execution_count": 13,
     "metadata": {},
     "output_type": "execute_result"
    }
   ],
   "source": [
    "date = np.array([datetime(2019, 6, 20),\n",
    "                 datetime(2019, 12, 30),\n",
    "                 datetime(2019, 12, 31)])\n",
    "spr.day_of_the_year(date)"
   ]
  },
  {
   "cell_type": "code",
   "execution_count": 6,
   "metadata": {},
   "outputs": [],
   "source": [
    "base = datetime(datetime.now().year, 1, 1)\n",
    "arr = np.array([datetime(datetime.now().year, 1, 1) + timedelta(days=i) for i in range(365)])"
   ]
  },
  {
   "cell_type": "code",
   "execution_count": 10,
   "metadata": {},
   "outputs": [
    {
     "data": {
      "text/plain": [
       "5.973329593400867"
      ]
     },
     "execution_count": 10,
     "metadata": {},
     "output_type": "execute_result"
    }
   ],
   "source": [
    "spr.B_nth_day(datetime(2019,12,14))"
   ]
  },
  {
   "cell_type": "code",
   "execution_count": 11,
   "metadata": {
    "scrolled": true
   },
   "outputs": [
    {
     "data": {
      "text/plain": [
       "array([0.        , 0.01721421, 0.03442841, 0.05164262, 0.06885683,\n",
       "       0.08607103, 0.10328524, 0.12049944, 0.13771365, 0.15492786,\n",
       "       0.17214206, 0.18935627, 0.20657048, 0.22378468, 0.24099889,\n",
       "       0.25821309, 0.2754273 , 0.29264151, 0.30985571, 0.32706992,\n",
       "       0.34428413, 0.36149833, 0.37871254, 0.39592675, 0.41314095,\n",
       "       0.43035516, 0.44756936, 0.46478357, 0.48199778, 0.49921198,\n",
       "       0.51642619, 0.5336404 , 0.5508546 , 0.56806881, 0.58528301,\n",
       "       0.60249722, 0.61971143, 0.63692563, 0.65413984, 0.67135405,\n",
       "       0.68856825, 0.70578246, 0.72299667, 0.74021087, 0.75742508,\n",
       "       0.77463928, 0.79185349, 0.8090677 , 0.8262819 , 0.84349611,\n",
       "       0.86071032, 0.87792452, 0.89513873, 0.91235294, 0.92956714,\n",
       "       0.94678135, 0.96399555, 0.98120976, 0.99842397, 1.01563817,\n",
       "       1.03285238, 1.05006659, 1.06728079, 1.084495  , 1.1017092 ,\n",
       "       1.11892341, 1.13613762, 1.15335182, 1.17056603, 1.18778024,\n",
       "       1.20499444, 1.22220865, 1.23942286, 1.25663706, 1.27385127,\n",
       "       1.29106547, 1.30827968, 1.32549389, 1.34270809, 1.3599223 ,\n",
       "       1.37713651, 1.39435071, 1.41156492, 1.42877912, 1.44599333,\n",
       "       1.46320754, 1.48042174, 1.49763595, 1.51485016, 1.53206436,\n",
       "       1.54927857, 1.56649278, 1.58370698, 1.60092119, 1.61813539,\n",
       "       1.6353496 , 1.65256381, 1.66977801, 1.68699222, 1.70420643,\n",
       "       1.72142063, 1.73863484, 1.75584904, 1.77306325, 1.79027746,\n",
       "       1.80749166, 1.82470587, 1.84192008, 1.85913428, 1.87634849,\n",
       "       1.8935627 , 1.9107769 , 1.92799111, 1.94520531, 1.96241952,\n",
       "       1.97963373, 1.99684793, 2.01406214, 2.03127635, 2.04849055,\n",
       "       2.06570476, 2.08291896, 2.10013317, 2.11734738, 2.13456158,\n",
       "       2.15177579, 2.16899   , 2.1862042 , 2.20341841, 2.22063262,\n",
       "       2.23784682, 2.25506103, 2.27227523, 2.28948944, 2.30670365,\n",
       "       2.32391785, 2.34113206, 2.35834627, 2.37556047, 2.39277468,\n",
       "       2.40998888, 2.42720309, 2.4444173 , 2.4616315 , 2.47884571,\n",
       "       2.49605992, 2.51327412, 2.53048833, 2.54770254, 2.56491674,\n",
       "       2.58213095, 2.59934515, 2.61655936, 2.63377357, 2.65098777,\n",
       "       2.66820198, 2.68541619, 2.70263039, 2.7198446 , 2.73705881,\n",
       "       2.75427301, 2.77148722, 2.78870142, 2.80591563, 2.82312984,\n",
       "       2.84034404, 2.85755825, 2.87477246, 2.89198666, 2.90920087,\n",
       "       2.92641507, 2.94362928, 2.96084349, 2.97805769, 2.9952719 ,\n",
       "       3.01248611, 3.02970031, 3.04691452, 3.06412873, 3.08134293,\n",
       "       3.09855714, 3.11577134, 3.13298555, 3.15019976, 3.16741396,\n",
       "       3.18462817, 3.20184238, 3.21905658, 3.23627079, 3.25348499,\n",
       "       3.2706992 , 3.28791341, 3.30512761, 3.32234182, 3.33955603,\n",
       "       3.35677023, 3.37398444, 3.39119865, 3.40841285, 3.42562706,\n",
       "       3.44284126, 3.46005547, 3.47726968, 3.49448388, 3.51169809,\n",
       "       3.5289123 , 3.5461265 , 3.56334071, 3.58055491, 3.59776912,\n",
       "       3.61498333, 3.63219753, 3.64941174, 3.66662595, 3.68384015,\n",
       "       3.70105436, 3.71826857, 3.73548277, 3.75269698, 3.76991118,\n",
       "       3.78712539, 3.8043396 , 3.8215538 , 3.83876801, 3.85598222,\n",
       "       3.87319642, 3.89041063, 3.90762483, 3.92483904, 3.94205325,\n",
       "       3.95926745, 3.97648166, 3.99369587, 4.01091007, 4.02812428,\n",
       "       4.04533849, 4.06255269, 4.0797669 , 4.0969811 , 4.11419531,\n",
       "       4.13140952, 4.14862372, 4.16583793, 4.18305214, 4.20026634,\n",
       "       4.21748055, 4.23469475, 4.25190896, 4.26912317, 4.28633737,\n",
       "       4.30355158, 4.32076579, 4.33797999, 4.3551942 , 4.37240841,\n",
       "       4.38962261, 4.40683682, 4.42405102, 4.44126523, 4.45847944,\n",
       "       4.47569364, 4.49290785, 4.51012206, 4.52733626, 4.54455047,\n",
       "       4.56176468, 4.57897888, 4.59619309, 4.61340729, 4.6306215 ,\n",
       "       4.64783571, 4.66504991, 4.68226412, 4.69947833, 4.71669253,\n",
       "       4.73390674, 4.75112094, 4.76833515, 4.78554936, 4.80276356,\n",
       "       4.81997777, 4.83719198, 4.85440618, 4.87162039, 4.8888346 ,\n",
       "       4.9060488 , 4.92326301, 4.94047721, 4.95769142, 4.97490563,\n",
       "       4.99211983, 5.00933404, 5.02654825, 5.04376245, 5.06097666,\n",
       "       5.07819086, 5.09540507, 5.11261928, 5.12983348, 5.14704769,\n",
       "       5.1642619 , 5.1814761 , 5.19869031, 5.21590452, 5.23311872,\n",
       "       5.25033293, 5.26754713, 5.28476134, 5.30197555, 5.31918975,\n",
       "       5.33640396, 5.35361817, 5.37083237, 5.38804658, 5.40526078,\n",
       "       5.42247499, 5.4396892 , 5.4569034 , 5.47411761, 5.49133182,\n",
       "       5.50854602, 5.52576023, 5.54297444, 5.56018864, 5.57740285,\n",
       "       5.59461705, 5.61183126, 5.62904547, 5.64625967, 5.66347388,\n",
       "       5.68068809, 5.69790229, 5.7151165 , 5.7323307 , 5.74954491,\n",
       "       5.76675912, 5.78397332, 5.80118753, 5.81840174, 5.83561594,\n",
       "       5.85283015, 5.87004436, 5.88725856, 5.90447277, 5.92168697,\n",
       "       5.93890118, 5.95611539, 5.97332959, 5.9905438 , 6.00775801,\n",
       "       6.02497221, 6.04218642, 6.05940063, 6.07661483, 6.09382904,\n",
       "       6.11104324, 6.12825745, 6.14547166, 6.16268586, 6.17990007,\n",
       "       6.19711428, 6.21432848, 6.23154269, 6.24875689, 6.2659711 ])"
      ]
     },
     "execution_count": 11,
     "metadata": {},
     "output_type": "execute_result"
    }
   ],
   "source": [
    "spr.B_nth_day(arr)"
   ]
  },
  {
   "cell_type": "code",
   "execution_count": 12,
   "metadata": {},
   "outputs": [
    {
     "ename": "TypeError",
     "evalue": "date must be a datetime object or array of datetime objects",
     "output_type": "error",
     "traceback": [
      "\u001b[0;31m---------------------------------------------------------------------------\u001b[0m",
      "\u001b[0;31mTypeError\u001b[0m                                 Traceback (most recent call last)",
      "\u001b[0;32m<ipython-input-12-6702f451331a>\u001b[0m in \u001b[0;36m<module>\u001b[0;34m\u001b[0m\n\u001b[0;32m----> 1\u001b[0;31m \u001b[0mspr\u001b[0m\u001b[0;34m.\u001b[0m\u001b[0mB_nth_day\u001b[0m\u001b[0;34m(\u001b[0m\u001b[0;36m1\u001b[0m\u001b[0;34m)\u001b[0m\u001b[0;34m\u001b[0m\u001b[0;34m\u001b[0m\u001b[0m\n\u001b[0m",
      "\u001b[0;32m~/Documents/programming/python/solarpy/solarpy/radiation.py\u001b[0m in \u001b[0;36mB_nth_day\u001b[0;34m(date)\u001b[0m\n\u001b[1;32m     40\u001b[0m     \u001b[0;32melse\u001b[0m\u001b[0;34m:\u001b[0m\u001b[0;34m\u001b[0m\u001b[0;34m\u001b[0m\u001b[0m\n\u001b[1;32m     41\u001b[0m         \u001b[0mmsg\u001b[0m \u001b[0;34m=\u001b[0m \u001b[0;34m\"date must be a datetime object or array of datetime objects\"\u001b[0m\u001b[0;34m\u001b[0m\u001b[0;34m\u001b[0m\u001b[0m\n\u001b[0;32m---> 42\u001b[0;31m         \u001b[0;32mraise\u001b[0m \u001b[0mTypeError\u001b[0m\u001b[0;34m(\u001b[0m\u001b[0mmsg\u001b[0m\u001b[0;34m)\u001b[0m\u001b[0;34m\u001b[0m\u001b[0;34m\u001b[0m\u001b[0m\n\u001b[0m\u001b[1;32m     43\u001b[0m \u001b[0;34m\u001b[0m\u001b[0m\n\u001b[1;32m     44\u001b[0m \u001b[0;34m\u001b[0m\u001b[0m\n",
      "\u001b[0;31mTypeError\u001b[0m: date must be a datetime object or array of datetime objects"
     ]
    }
   ],
   "source": [
    "spr.B_nth_day(1)"
   ]
  },
  {
   "cell_type": "code",
   "execution_count": null,
   "metadata": {},
   "outputs": [],
   "source": [
    "def Gon(date):\n",
    "    B = B_nth_day(date)\n",
    "\n",
    "    return 1367 * (1.00011 + 0.034221 * cos(B) +\n",
    "                   0.00128 * sin(B) + 0.000719 * cos(2 * B) +\n",
    "                   0.000077 * sin(2 * B))"
   ]
  },
  {
   "cell_type": "code",
   "execution_count": null,
   "metadata": {},
   "outputs": [],
   "source": [
    "(Gon(a))"
   ]
  },
  {
   "cell_type": "code",
   "execution_count": 23,
   "metadata": {
    "scrolled": true
   },
   "outputs": [
    {
     "name": "stdout",
     "output_type": "stream",
     "text": [
      "2019-01-01 12:00:00 57\n",
      "2019-01-02 12:00:00 56\n",
      "2019-01-03 12:00:00 56\n",
      "2019-01-04 12:00:00 55\n",
      "2019-01-05 12:00:00 55\n",
      "2019-01-06 12:00:00 54\n",
      "2019-01-07 12:00:00 54\n",
      "2019-01-08 12:00:00 54\n",
      "2019-01-09 12:00:00 53\n",
      "2019-01-10 12:00:00 53\n",
      "2019-01-11 12:00:00 52\n",
      "2019-01-12 12:00:00 52\n",
      "2019-01-13 12:00:00 52\n",
      "2019-01-14 12:00:00 51\n",
      "2019-01-15 12:00:00 51\n",
      "2019-01-16 12:00:00 51\n",
      "2019-01-17 12:00:00 50\n",
      "2019-01-18 12:00:00 50\n",
      "2019-01-19 12:00:00 50\n",
      "2019-01-20 12:00:00 49\n",
      "2019-01-21 12:00:00 49\n",
      "2019-01-22 12:00:00 49\n",
      "2019-01-23 12:00:00 48\n",
      "2019-01-24 12:00:00 48\n",
      "2019-01-25 12:00:00 48\n",
      "2019-01-26 12:00:00 48\n",
      "2019-01-27 12:00:00 47\n",
      "2019-01-28 12:00:00 47\n",
      "2019-01-29 12:00:00 47\n",
      "2019-01-30 12:00:00 47\n",
      "2019-01-31 12:00:00 46\n",
      "2019-02-01 12:00:00 46\n",
      "2019-02-02 12:00:00 46\n",
      "2019-02-03 12:00:00 46\n",
      "2019-02-04 12:00:00 46\n",
      "2019-02-05 12:00:00 46\n",
      "2019-02-06 12:00:00 46\n",
      "2019-02-07 12:00:00 46\n",
      "2019-02-08 12:00:00 45\n",
      "2019-02-09 12:00:00 45\n",
      "2019-02-10 12:00:00 45\n",
      "2019-02-11 12:00:00 45\n",
      "2019-02-12 12:00:00 45\n",
      "2019-02-13 12:00:00 45\n",
      "2019-02-14 12:00:00 45\n",
      "2019-02-15 12:00:00 45\n",
      "2019-02-16 12:00:00 45\n",
      "2019-02-17 12:00:00 45\n",
      "2019-02-18 12:00:00 45\n",
      "2019-02-19 12:00:00 45\n",
      "2019-02-20 12:00:00 45\n",
      "2019-02-21 12:00:00 46\n",
      "2019-02-22 12:00:00 46\n",
      "2019-02-23 12:00:00 46\n",
      "2019-02-24 12:00:00 46\n",
      "2019-02-25 12:00:00 46\n",
      "2019-02-26 12:00:00 46\n",
      "2019-02-27 12:00:00 46\n",
      "2019-02-28 12:00:00 46\n",
      "2019-03-01 12:00:00 47\n",
      "2019-03-02 12:00:00 47\n",
      "2019-03-03 12:00:00 47\n",
      "2019-03-04 12:00:00 47\n",
      "2019-03-05 12:00:00 47\n",
      "2019-03-06 12:00:00 48\n",
      "2019-03-07 12:00:00 48\n",
      "2019-03-08 12:00:00 48\n",
      "2019-03-09 12:00:00 48\n",
      "2019-03-10 12:00:00 49\n",
      "2019-03-11 12:00:00 49\n",
      "2019-03-12 12:00:00 49\n",
      "2019-03-13 12:00:00 49\n",
      "2019-03-14 12:00:00 50\n",
      "2019-03-15 12:00:00 50\n",
      "2019-03-16 12:00:00 50\n",
      "2019-03-17 12:00:00 50\n",
      "2019-03-18 12:00:00 51\n",
      "2019-03-19 12:00:00 51\n",
      "2019-03-20 12:00:00 51\n",
      "2019-03-21 12:00:00 52\n",
      "2019-03-22 12:00:00 52\n",
      "2019-03-23 12:00:00 52\n",
      "2019-03-24 12:00:00 53\n",
      "2019-03-25 12:00:00 53\n",
      "2019-03-26 12:00:00 53\n",
      "2019-03-27 12:00:00 54\n",
      "2019-03-28 12:00:00 54\n",
      "2019-03-29 12:00:00 54\n",
      "2019-03-30 12:00:00 54\n",
      "2019-03-31 12:00:00 55\n",
      "2019-04-01 12:00:00 55\n",
      "2019-04-02 12:00:00 55\n",
      "2019-04-03 12:00:00 56\n",
      "2019-04-04 12:00:00 56\n",
      "2019-04-05 12:00:00 56\n",
      "2019-04-06 12:00:00 57\n",
      "2019-04-07 12:00:00 57\n",
      "2019-04-08 12:00:00 57\n",
      "2019-04-09 12:00:00 58\n",
      "2019-04-10 12:00:00 58\n",
      "2019-04-11 12:00:00 58\n",
      "2019-04-12 12:00:00 58\n",
      "2019-04-13 12:00:00 59\n",
      "2019-04-14 12:00:00 59\n",
      "2019-04-15 12:00:00 59\n",
      "2019-04-16 12:00:00 0\n",
      "2019-04-17 12:00:00 0\n",
      "2019-04-18 12:00:00 0\n",
      "2019-04-19 12:00:00 0\n",
      "2019-04-20 12:00:00 0\n",
      "2019-04-21 12:00:00 1\n",
      "2019-04-22 12:00:00 1\n",
      "2019-04-23 12:00:00 1\n",
      "2019-04-24 12:00:00 1\n",
      "2019-04-25 12:00:00 2\n",
      "2019-04-26 12:00:00 2\n",
      "2019-04-27 12:00:00 2\n",
      "2019-04-28 12:00:00 2\n",
      "2019-04-29 12:00:00 2\n",
      "2019-04-30 12:00:00 2\n",
      "2019-05-01 12:00:00 3\n",
      "2019-05-02 12:00:00 3\n",
      "2019-05-03 12:00:00 3\n",
      "2019-05-04 12:00:00 3\n",
      "2019-05-05 12:00:00 3\n",
      "2019-05-06 12:00:00 3\n",
      "2019-05-07 12:00:00 3\n",
      "2019-05-08 12:00:00 3\n",
      "2019-05-09 12:00:00 3\n",
      "2019-05-10 12:00:00 3\n",
      "2019-05-11 12:00:00 3\n",
      "2019-05-12 12:00:00 3\n",
      "2019-05-13 12:00:00 3\n",
      "2019-05-14 12:00:00 3\n",
      "2019-05-15 12:00:00 3\n",
      "2019-05-16 12:00:00 3\n",
      "2019-05-17 12:00:00 3\n",
      "2019-05-18 12:00:00 3\n",
      "2019-05-19 12:00:00 3\n",
      "2019-05-20 12:00:00 3\n",
      "2019-05-21 12:00:00 3\n",
      "2019-05-22 12:00:00 3\n",
      "2019-05-23 12:00:00 3\n",
      "2019-05-24 12:00:00 3\n",
      "2019-05-25 12:00:00 3\n",
      "2019-05-26 12:00:00 3\n",
      "2019-05-27 12:00:00 3\n",
      "2019-05-28 12:00:00 3\n",
      "2019-05-29 12:00:00 2\n",
      "2019-05-30 12:00:00 2\n",
      "2019-05-31 12:00:00 2\n",
      "2019-06-01 12:00:00 2\n",
      "2019-06-02 12:00:00 2\n",
      "2019-06-03 12:00:00 2\n",
      "2019-06-04 12:00:00 2\n",
      "2019-06-05 12:00:00 1\n",
      "2019-06-06 12:00:00 1\n",
      "2019-06-07 12:00:00 1\n",
      "2019-06-08 12:00:00 1\n",
      "2019-06-09 12:00:00 1\n",
      "2019-06-10 12:00:00 1\n",
      "2019-06-11 12:00:00 0\n",
      "2019-06-12 12:00:00 0\n",
      "2019-06-13 12:00:00 0\n",
      "2019-06-14 12:00:00 0\n",
      "2019-06-15 12:00:00 59\n",
      "2019-06-16 12:00:00 59\n",
      "2019-06-17 12:00:00 59\n",
      "2019-06-18 12:00:00 59\n",
      "2019-06-19 12:00:00 59\n",
      "2019-06-20 12:00:00 58\n",
      "2019-06-21 12:00:00 58\n",
      "2019-06-22 12:00:00 58\n",
      "2019-06-23 12:00:00 58\n",
      "2019-06-24 12:00:00 58\n",
      "2019-06-25 12:00:00 57\n",
      "2019-06-26 12:00:00 57\n",
      "2019-06-27 12:00:00 57\n",
      "2019-06-28 12:00:00 57\n",
      "2019-06-29 12:00:00 56\n",
      "2019-06-30 12:00:00 56\n",
      "2019-07-01 12:00:00 56\n",
      "2019-07-02 12:00:00 56\n",
      "2019-07-03 12:00:00 56\n",
      "2019-07-04 12:00:00 55\n",
      "2019-07-05 12:00:00 55\n",
      "2019-07-06 12:00:00 55\n",
      "2019-07-07 12:00:00 55\n",
      "2019-07-08 12:00:00 55\n",
      "2019-07-09 12:00:00 55\n",
      "2019-07-10 12:00:00 54\n",
      "2019-07-11 12:00:00 54\n",
      "2019-07-12 12:00:00 54\n",
      "2019-07-13 12:00:00 54\n",
      "2019-07-14 12:00:00 54\n",
      "2019-07-15 12:00:00 54\n",
      "2019-07-16 12:00:00 54\n",
      "2019-07-17 12:00:00 53\n",
      "2019-07-18 12:00:00 53\n",
      "2019-07-19 12:00:00 53\n",
      "2019-07-20 12:00:00 53\n",
      "2019-07-21 12:00:00 53\n",
      "2019-07-22 12:00:00 53\n",
      "2019-07-23 12:00:00 53\n",
      "2019-07-24 12:00:00 53\n",
      "2019-07-25 12:00:00 53\n",
      "2019-07-26 12:00:00 53\n",
      "2019-07-27 12:00:00 53\n",
      "2019-07-28 12:00:00 53\n",
      "2019-07-29 12:00:00 53\n",
      "2019-07-30 12:00:00 53\n",
      "2019-07-31 12:00:00 53\n",
      "2019-08-01 12:00:00 53\n",
      "2019-08-02 12:00:00 53\n",
      "2019-08-03 12:00:00 53\n",
      "2019-08-04 12:00:00 53\n",
      "2019-08-05 12:00:00 53\n",
      "2019-08-06 12:00:00 53\n",
      "2019-08-07 12:00:00 53\n",
      "2019-08-08 12:00:00 54\n",
      "2019-08-09 12:00:00 54\n",
      "2019-08-10 12:00:00 54\n",
      "2019-08-11 12:00:00 54\n",
      "2019-08-12 12:00:00 54\n",
      "2019-08-13 12:00:00 54\n",
      "2019-08-14 12:00:00 54\n",
      "2019-08-15 12:00:00 55\n",
      "2019-08-16 12:00:00 55\n",
      "2019-08-17 12:00:00 55\n",
      "2019-08-18 12:00:00 55\n",
      "2019-08-19 12:00:00 55\n",
      "2019-08-20 12:00:00 56\n",
      "2019-08-21 12:00:00 56\n",
      "2019-08-22 12:00:00 56\n",
      "2019-08-23 12:00:00 56\n",
      "2019-08-24 12:00:00 57\n",
      "2019-08-25 12:00:00 57\n",
      "2019-08-26 12:00:00 57\n",
      "2019-08-27 12:00:00 58\n",
      "2019-08-28 12:00:00 58\n",
      "2019-08-29 12:00:00 58\n",
      "2019-08-30 12:00:00 58\n",
      "2019-08-31 12:00:00 59\n",
      "2019-09-01 12:00:00 59\n",
      "2019-09-02 12:00:00 59\n",
      "2019-09-03 12:00:00 0\n",
      "2019-09-04 12:00:00 0\n",
      "2019-09-05 12:00:00 0\n",
      "2019-09-06 12:00:00 1\n",
      "2019-09-07 12:00:00 1\n",
      "2019-09-08 12:00:00 2\n",
      "2019-09-09 12:00:00 2\n",
      "2019-09-10 12:00:00 2\n",
      "2019-09-11 12:00:00 3\n",
      "2019-09-12 12:00:00 3\n",
      "2019-09-13 12:00:00 3\n",
      "2019-09-14 12:00:00 4\n",
      "2019-09-15 12:00:00 4\n",
      "2019-09-16 12:00:00 5\n",
      "2019-09-17 12:00:00 5\n",
      "2019-09-18 12:00:00 5\n",
      "2019-09-19 12:00:00 6\n",
      "2019-09-20 12:00:00 6\n",
      "2019-09-21 12:00:00 6\n",
      "2019-09-22 12:00:00 7\n",
      "2019-09-23 12:00:00 7\n",
      "2019-09-24 12:00:00 8\n",
      "2019-09-25 12:00:00 8\n",
      "2019-09-26 12:00:00 8\n",
      "2019-09-27 12:00:00 9\n",
      "2019-09-28 12:00:00 9\n",
      "2019-09-29 12:00:00 9\n",
      "2019-09-30 12:00:00 10\n",
      "2019-10-01 12:00:00 10\n",
      "2019-10-02 12:00:00 10\n",
      "2019-10-03 12:00:00 11\n",
      "2019-10-04 12:00:00 11\n",
      "2019-10-05 12:00:00 11\n",
      "2019-10-06 12:00:00 12\n",
      "2019-10-07 12:00:00 12\n",
      "2019-10-08 12:00:00 12\n",
      "2019-10-09 12:00:00 12\n",
      "2019-10-10 12:00:00 13\n",
      "2019-10-11 12:00:00 13\n",
      "2019-10-12 12:00:00 13\n",
      "2019-10-13 12:00:00 13\n",
      "2019-10-14 12:00:00 14\n",
      "2019-10-15 12:00:00 14\n",
      "2019-10-16 12:00:00 14\n",
      "2019-10-17 12:00:00 14\n",
      "2019-10-18 12:00:00 15\n",
      "2019-10-19 12:00:00 15\n",
      "2019-10-20 12:00:00 15\n",
      "2019-10-21 12:00:00 15\n",
      "2019-10-22 12:00:00 15\n",
      "2019-10-23 12:00:00 15\n",
      "2019-10-24 12:00:00 15\n",
      "2019-10-25 12:00:00 16\n",
      "2019-10-26 12:00:00 16\n",
      "2019-10-27 12:00:00 16\n",
      "2019-10-28 12:00:00 16\n",
      "2019-10-29 12:00:00 16\n",
      "2019-10-30 12:00:00 16\n",
      "2019-10-31 12:00:00 16\n",
      "2019-11-01 12:00:00 16\n",
      "2019-11-02 12:00:00 16\n",
      "2019-11-03 12:00:00 16\n",
      "2019-11-04 12:00:00 16\n",
      "2019-11-05 12:00:00 16\n",
      "2019-11-06 12:00:00 16\n",
      "2019-11-07 12:00:00 16\n",
      "2019-11-08 12:00:00 16\n",
      "2019-11-09 12:00:00 16\n",
      "2019-11-10 12:00:00 15\n",
      "2019-11-11 12:00:00 15\n",
      "2019-11-12 12:00:00 15\n",
      "2019-11-13 12:00:00 15\n",
      "2019-11-14 12:00:00 15\n",
      "2019-11-15 12:00:00 15\n",
      "2019-11-16 12:00:00 14\n",
      "2019-11-17 12:00:00 14\n",
      "2019-11-18 12:00:00 14\n",
      "2019-11-19 12:00:00 14\n",
      "2019-11-20 12:00:00 14\n",
      "2019-11-21 12:00:00 13\n",
      "2019-11-22 12:00:00 13\n",
      "2019-11-23 12:00:00 13\n",
      "2019-11-24 12:00:00 13\n",
      "2019-11-25 12:00:00 12\n",
      "2019-11-26 12:00:00 12\n",
      "2019-11-27 12:00:00 12\n",
      "2019-11-28 12:00:00 11\n",
      "2019-11-29 12:00:00 11\n",
      "2019-11-30 12:00:00 11\n",
      "2019-12-01 12:00:00 10\n",
      "2019-12-02 12:00:00 10\n",
      "2019-12-03 12:00:00 9\n",
      "2019-12-04 12:00:00 9\n",
      "2019-12-05 12:00:00 9\n",
      "2019-12-06 12:00:00 8\n",
      "2019-12-07 12:00:00 8\n",
      "2019-12-08 12:00:00 7\n",
      "2019-12-09 12:00:00 7\n",
      "2019-12-10 12:00:00 7\n",
      "2019-12-11 12:00:00 6\n",
      "2019-12-12 12:00:00 6\n",
      "2019-12-13 12:00:00 5\n",
      "2019-12-14 12:00:00 5\n",
      "2019-12-15 12:00:00 4\n",
      "2019-12-16 12:00:00 4\n",
      "2019-12-17 12:00:00 4\n",
      "2019-12-18 12:00:00 3\n",
      "2019-12-19 12:00:00 3\n",
      "2019-12-20 12:00:00 2\n",
      "2019-12-21 12:00:00 2\n",
      "2019-12-22 12:00:00 1\n",
      "2019-12-23 12:00:00 1\n",
      "2019-12-24 12:00:00 0\n",
      "2019-12-25 12:00:00 0\n",
      "2019-12-26 12:00:00 59\n",
      "2019-12-27 12:00:00 59\n",
      "2019-12-28 12:00:00 58\n",
      "2019-12-29 12:00:00 58\n",
      "2019-12-30 12:00:00 58\n",
      "2019-12-31 12:00:00 57\n"
     ]
    }
   ],
   "source": [
    "dates = np.array([datetime(datetime.now().year, 1, 1, 12, 0) +\n",
    "               timedelta(days=i) for i in range(365)])\n",
    "for dt in dates:\n",
    "    print(dt, (spr.solar_time(dt, 60)- timedelta(hours=12)).minute)"
   ]
  },
  {
   "cell_type": "code",
   "execution_count": null,
   "metadata": {},
   "outputs": [],
   "source": []
  }
 ],
 "metadata": {
  "kernelspec": {
   "display_name": "Python 3",
   "language": "python",
   "name": "python3"
  },
  "language_info": {
   "codemirror_mode": {
    "name": "ipython",
    "version": 3
   },
   "file_extension": ".py",
   "mimetype": "text/x-python",
   "name": "python",
   "nbconvert_exporter": "python",
   "pygments_lexer": "ipython3",
   "version": "3.6.9"
  }
 },
 "nbformat": 4,
 "nbformat_minor": 2
}
